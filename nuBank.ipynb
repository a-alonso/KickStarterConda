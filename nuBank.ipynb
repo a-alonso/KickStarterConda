{
 "cells": [
  {
   "cell_type": "code",
   "execution_count": 1,
   "metadata": {},
   "outputs": [],
   "source": [
    "#import libraries\n",
    "import pandas as pd\n",
    "from matplotlib import pyplot as plt\n",
    "import numpy as np\n",
    "\n",
    "#Call data\n",
    "jan2018 = pd.read_csv('ks-projects-201801.csv', low_memory=False\\\n",
    "                      #dtype={\"ID\": int, \"name\": str,\"category\": str, 'mainCategory':str,\\\n",
    "                      #'country':str,'currency': str,'launched':str, 'deadline':str,\\\n",
    "                      #'state':object,'backers': int,'usdPledged': int, 'usdGoal':int}\n",
    "                      )\n",
    "\n",
    "dec2016 = pd.read_csv('ks-projects-201612.csv', low_memory=False)\n",
    "pd.options.display.float_format = '{:,.0f}'.format"
   ]
  },
  {
   "cell_type": "code",
   "execution_count": 2,
   "metadata": {},
   "outputs": [
    {
     "data": {
      "text/html": [
       "<div>\n",
       "<style scoped>\n",
       "    .dataframe tbody tr th:only-of-type {\n",
       "        vertical-align: middle;\n",
       "    }\n",
       "\n",
       "    .dataframe tbody tr th {\n",
       "        vertical-align: top;\n",
       "    }\n",
       "\n",
       "    .dataframe thead th {\n",
       "        text-align: right;\n",
       "    }\n",
       "</style>\n",
       "<table border=\"1\" class=\"dataframe\">\n",
       "  <thead>\n",
       "    <tr style=\"text-align: right;\">\n",
       "      <th></th>\n",
       "      <th>ID</th>\n",
       "      <th>name</th>\n",
       "      <th>category</th>\n",
       "      <th>mainCategory</th>\n",
       "      <th>country</th>\n",
       "      <th>currency</th>\n",
       "      <th>launched</th>\n",
       "      <th>deadline</th>\n",
       "      <th>state</th>\n",
       "      <th>backers</th>\n",
       "      <th>usdPledged</th>\n",
       "      <th>usdGoal</th>\n",
       "    </tr>\n",
       "  </thead>\n",
       "  <tbody>\n",
       "    <tr>\n",
       "      <th>0</th>\n",
       "      <td>1,000,002,330</td>\n",
       "      <td>The Songs of Adelaide &amp; Abullah</td>\n",
       "      <td>Poetry</td>\n",
       "      <td>Publishing</td>\n",
       "      <td>GB</td>\n",
       "      <td>GBP</td>\n",
       "      <td>8/11/15 12:12</td>\n",
       "      <td>10/9/15</td>\n",
       "      <td>failed</td>\n",
       "      <td>0</td>\n",
       "      <td>0</td>\n",
       "      <td>1534</td>\n",
       "    </tr>\n",
       "    <tr>\n",
       "      <th>1</th>\n",
       "      <td>1,000,003,930</td>\n",
       "      <td>Greeting From Earth: ZGAC Arts Capsule For ET</td>\n",
       "      <td>Narrative Film</td>\n",
       "      <td>Film &amp; Video</td>\n",
       "      <td>US</td>\n",
       "      <td>USD</td>\n",
       "      <td>9/2/17 4:43</td>\n",
       "      <td>11/1/17</td>\n",
       "      <td>failed</td>\n",
       "      <td>15</td>\n",
       "      <td>2421</td>\n",
       "      <td>30000</td>\n",
       "    </tr>\n",
       "    <tr>\n",
       "      <th>2</th>\n",
       "      <td>1,000,004,038</td>\n",
       "      <td>Where is Hank?</td>\n",
       "      <td>Narrative Film</td>\n",
       "      <td>Film &amp; Video</td>\n",
       "      <td>US</td>\n",
       "      <td>USD</td>\n",
       "      <td>1/12/13 0:20</td>\n",
       "      <td>2/26/13</td>\n",
       "      <td>failed</td>\n",
       "      <td>3</td>\n",
       "      <td>220</td>\n",
       "      <td>45000</td>\n",
       "    </tr>\n",
       "    <tr>\n",
       "      <th>3</th>\n",
       "      <td>1,000,007,540</td>\n",
       "      <td>ToshiCapital Rekordz Needs Help to Complete Album</td>\n",
       "      <td>Music</td>\n",
       "      <td>Music</td>\n",
       "      <td>US</td>\n",
       "      <td>USD</td>\n",
       "      <td>3/17/12 3:24</td>\n",
       "      <td>4/16/12</td>\n",
       "      <td>failed</td>\n",
       "      <td>1</td>\n",
       "      <td>1</td>\n",
       "      <td>5000</td>\n",
       "    </tr>\n",
       "    <tr>\n",
       "      <th>4</th>\n",
       "      <td>1,000,011,046</td>\n",
       "      <td>Community Film Project: The Art of Neighborhoo...</td>\n",
       "      <td>Film &amp; Video</td>\n",
       "      <td>Film &amp; Video</td>\n",
       "      <td>US</td>\n",
       "      <td>USD</td>\n",
       "      <td>7/4/15 8:35</td>\n",
       "      <td>8/29/15</td>\n",
       "      <td>canceled</td>\n",
       "      <td>14</td>\n",
       "      <td>1283</td>\n",
       "      <td>19500</td>\n",
       "    </tr>\n",
       "  </tbody>\n",
       "</table>\n",
       "</div>"
      ],
      "text/plain": [
       "             ID                                               name  \\\n",
       "0 1,000,002,330                    The Songs of Adelaide & Abullah   \n",
       "1 1,000,003,930      Greeting From Earth: ZGAC Arts Capsule For ET   \n",
       "2 1,000,004,038                                     Where is Hank?   \n",
       "3 1,000,007,540  ToshiCapital Rekordz Needs Help to Complete Album   \n",
       "4 1,000,011,046  Community Film Project: The Art of Neighborhoo...   \n",
       "\n",
       "         category  mainCategory country currency       launched deadline  \\\n",
       "0          Poetry    Publishing      GB      GBP  8/11/15 12:12  10/9/15   \n",
       "1  Narrative Film  Film & Video      US      USD    9/2/17 4:43  11/1/17   \n",
       "2  Narrative Film  Film & Video      US      USD   1/12/13 0:20  2/26/13   \n",
       "3           Music         Music      US      USD   3/17/12 3:24  4/16/12   \n",
       "4    Film & Video  Film & Video      US      USD    7/4/15 8:35  8/29/15   \n",
       "\n",
       "      state  backers  usdPledged  usdGoal  \n",
       "0    failed        0           0     1534  \n",
       "1    failed       15        2421    30000  \n",
       "2    failed        3         220    45000  \n",
       "3    failed        1           1     5000  \n",
       "4  canceled       14        1283    19500  "
      ]
     },
     "execution_count": 2,
     "metadata": {},
     "output_type": "execute_result"
    }
   ],
   "source": [
    "jan2018.head()"
   ]
  },
  {
   "cell_type": "code",
   "execution_count": 3,
   "metadata": {},
   "outputs": [
    {
     "name": "stdout",
     "output_type": "stream",
     "text": [
      "[       0        0        0 ... 12779843 13285226 20338986]\n",
      "[        0         0         0 ... 110169772 151395870 166361391]\n"
     ]
    },
    {
     "data": {
      "image/png": "[encoded data removed]",
      "text/plain": [
       "<Figure size 864x432 with 1 Axes>"
      ]
     },
     "metadata": {
      "needs_background": "light"
     },
     "output_type": "display_data"
    }
   ],
   "source": [
    "#Outliers\n",
    "sortedPledges = np.sort(jan2018['usdPledged'])\n",
    "sortedGoals = np.sort(jan2018['usdGoal'])\n",
    "print(sortedPledges)\n",
    "print(sortedGoals)\n",
    "\n",
    "#Scatter Chart\n",
    "\n",
    "fig, ax = plt.subplots(figsize=(12,6))\n",
    "ax.scatter(jan2018['backers'], jan2018['usdPledged'],s=5)\n",
    "\n",
    "ax.scatter(jan2018['backers'], jan2018['usdGoal'],s=5)\n",
    "\n",
    "ax.set_xlabel('Backers')\n",
    "ax.set_ylabel('Amount')\n",
    "\n",
    "\n",
    "legend_labels=['Pledge','Goal']\n",
    "plt.legend(legend_labels, loc=1)\n",
    "\n",
    "plt.show()"
   ]
  },
  {
   "cell_type": "code",
   "execution_count": 4,
   "metadata": {},
   "outputs": [
    {
     "name": "stdout",
     "output_type": "stream",
     "text": [
      "Pledge Mean 2018\n",
      "3271.3565391126053\n",
      "\n",
      "Pledge Median 2018\n",
      "0.0\n",
      "\n",
      "Pledge Standard Deviation 2018\n",
      "54841.63715227524\n",
      "\n",
      "Pledge Percentile 25\n",
      "0.0\n",
      "\n",
      "Pledge Percentile 75\n",
      "77.0\n",
      "\n",
      "Pledge Interquartile Range\n",
      "77.0\n"
     ]
    }
   ],
   "source": [
    "#Pledge statistical values\n",
    "\n",
    "projectPledgeMean2018 = np.mean(jan2018['usdPledged'])\n",
    "\n",
    "projectPledgeMedian2018 = np.median(jan2018['usdPledged'])\n",
    "\n",
    "projectPledgeStd2018 = np.std(jan2018['usdPledged'])\n",
    "\n",
    "projectPledgeFirstQuarter2018 = np.percentile(jan2018['usdPledged'],25)\n",
    "projectPledgeThirdQuarter2018 = np.percentile(jan2018['usdPledged'],75)\n",
    "projectPledgeInquartileRange2018 = projectPledgeThirdQuarter2018 - projectPledgeFirstQuarter2018\n",
    "\n",
    "print \"Pledge Mean 2018\"\n",
    "print (projectPledgeMean2018)\n",
    "print \"\"\n",
    "print \"Pledge Median 2018\"\n",
    "print (projectPledgeMedian2018)\n",
    "print \"\"\n",
    "print \"Pledge Standard Deviation 2018\"\n",
    "print (projectPledgeStd2018)\n",
    "print \"\"\n",
    "print \"Pledge Percentile 25\"\n",
    "print (projectPledgeFirstQuarter2018)\n",
    "print \"\"\n",
    "print \"Pledge Percentile 75\"\n",
    "print (projectPledgeThirdQuarter2018)\n",
    "print \"\"\n",
    "print \"Pledge Interquartile Range\"\n",
    "print (projectPledgeInquartileRange2018)\n"
   ]
  },
  {
   "cell_type": "code",
   "execution_count": 5,
   "metadata": {},
   "outputs": [
    {
     "name": "stdout",
     "output_type": "stream",
     "text": [
      "Goal Mean 2018\n",
      "16414.476431347306\n",
      "\n",
      "Goal Median 2018\n",
      "0.0\n",
      "\n",
      "Goal Standard Deviation 2018\n",
      "693187.9132704297\n",
      "\n",
      "Goal Percentile 25\n",
      "0.0\n",
      "\n",
      "Goal Percentile 75\n",
      "2700.0\n",
      "\n",
      "Goal Interquartile Range\n",
      "2700.0\n"
     ]
    }
   ],
   "source": [
    "#Goal statistical values\n",
    "\n",
    "projectGoalMean2018 = np.mean(jan2018['usdGoal'])\n",
    "projectGoalMedian2018 = np.median(jan2018['usdGoal'])\n",
    "projectGoalStd2018 = np.std(jan2018['usdGoal'])\n",
    "projectGoalFirstQuarter2018 = np.percentile(jan2018['usdGoal'],25)\n",
    "projectGoalThirdQuarter2018 = np.percentile(jan2018['usdGoal'],75)\n",
    "projectGoalInquartileRange2018 = projectGoalThirdQuarter2018 - projectGoalFirstQuarter2018\n",
    "\n",
    "print \"Goal Mean 2018\"\n",
    "print (projectGoalMean2018)\n",
    "print \"\"\n",
    "print \"Goal Median 2018\"\n",
    "print (projectGoalMedian2018)\n",
    "print \"\"\n",
    "print \"Goal Standard Deviation 2018\"\n",
    "print (projectGoalStd2018)\n",
    "print \"\"\n",
    "print \"Goal Percentile 25\"\n",
    "print (projectGoalFirstQuarter2018)\n",
    "print \"\"\n",
    "print \"Goal Percentile 75\"\n",
    "print (projectGoalThirdQuarter2018)\n",
    "print \"\"\n",
    "print \"Goal Interquartile Range\"\n",
    "print (projectGoalInquartileRange2018)\n"
   ]
  },
  {
   "cell_type": "code",
   "execution_count": 12,
   "metadata": {},
   "outputs": [
    {
     "data": {
      "image/png": "[encoded data removed]",
      "text/plain": [
       "<Figure size 864x432 with 1 Axes>"
      ]
     },
     "metadata": {
      "needs_background": "light"
     },
     "output_type": "display_data"
    }
   ],
   "source": [
    "#Draw Project State Histogram\n",
    "fig, ax2 = plt.subplots(figsize=(12,6))\n",
    "ax2.hist(jan2018['usdGoal'],range={0,7000}, bins=10, alpha=0.5, label=\"Goal\", density=True)\n",
    "ax2.hist(jan2018['usdPledged'],range={0,8000}, bins=10, alpha=0.5, label=\"Pledge\", density=True)\n",
    "\n",
    "ax2.legend()\n",
    "\n",
    "\n",
    "plt.show()"
   ]
  },
  {
   "cell_type": "code",
   "execution_count": null,
   "metadata": {},
   "outputs": [],
   "source": []
  }
 ],
 "metadata": {
  "kernelspec": {
   "display_name": "Python 2",
   "language": "python",
   "name": "python2"
  },
  "language_info": {
   "codemirror_mode": {
    "name": "ipython",
    "version": 2
   },
   "file_extension": ".py",
   "mimetype": "text/x-python",
   "name": "python",
   "nbconvert_exporter": "python",
   "pygments_lexer": "ipython2",
   "version": "2.7.15"
  }
 },
 "nbformat": 4,
 "nbformat_minor": 2
}
